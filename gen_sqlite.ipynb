{
 "cells": [
  {
   "cell_type": "code",
   "execution_count": 1,
   "id": "954785f7-d275-48fd-93bf-879df3e46ed2",
   "metadata": {},
   "outputs": [],
   "source": [
    "import pandas as pd\n",
    "import sqlite3"
   ]
  },
  {
   "cell_type": "code",
   "execution_count": 2,
   "id": "0dfa5169-2470-486b-87f3-6e48a73a8647",
   "metadata": {},
   "outputs": [
    {
     "name": "stderr",
     "output_type": "stream",
     "text": [
      "/var/folders/1p/6ftq4fwj6y708g27877chs7m0000gn/T/ipykernel_25958/2906032908.py:2: DtypeWarning: Columns (21) have mixed types. Specify dtype option on import or set low_memory=False.\n",
      "  df = pd.read_csv(\"prev_semester_data_with_descriptions.csv\")\n"
     ]
    }
   ],
   "source": [
    "# load the pandas dataframe\n",
    "df = pd.read_csv(\"prev_semester_data_with_descriptions.csv\")"
   ]
  },
  {
   "cell_type": "code",
   "execution_count": 3,
   "id": "9c2699c3-4d75-437b-8d4b-c48c70bb5795",
   "metadata": {},
   "outputs": [
    {
     "data": {
      "text/plain": [
       "44480"
      ]
     },
     "execution_count": 3,
     "metadata": {},
     "output_type": "execute_result"
    }
   ],
   "source": [
    "conn = sqlite3.connect('data.db')\n",
    "df.to_sql('sessions', conn, if_exists='replace', index=False)"
   ]
  },
  {
   "cell_type": "code",
   "execution_count": 4,
   "id": "58b97229-6794-4a34-b0c3-793085f0eb7d",
   "metadata": {},
   "outputs": [],
   "source": [
    "conn.close()\n"
   ]
  },
  {
   "cell_type": "markdown",
   "id": "e73cd5f5-a399-4215-8e05-773545b87039",
   "metadata": {},
   "source": [
    "# playing with sql"
   ]
  },
  {
   "cell_type": "code",
   "execution_count": 5,
   "id": "41e619dc-c326-46b0-854a-9e6ea2d1580e",
   "metadata": {},
   "outputs": [
    {
     "name": "stdout",
     "output_type": "stream",
     "text": [
      "Columns in the table: ['Unnamed: 0', 'index', 'crse_id', 'crse_offer_nbr', 'strm', 'session_code', 'session_descr', 'class_section', 'location', 'location_descr', 'start_dt', 'end_dt', 'class_stat', 'campus', 'campus_descr', 'class_nbr', 'acad_career', 'acad_career_descr', 'component', 'subject', 'subject_descr', 'catalog_nbr', 'class_type', 'schedule_print', 'acad_group', 'instruction_mode', 'instruction_mode_descr', 'acad_org', 'wait_tot', 'wait_cap', 'class_capacity', 'enrollment_total', 'enrollment_available', 'descr', 'rqmnt_designtn', 'units', 'combined_section', 'enrl_stat', 'enrl_stat_descr', 'topic', 'instructors', 'section_type', 'meetings', 'crse_attr', 'crse_attr_value', 'reserve_caps', 'combined_descr', 'reserved_combined_info', 'descriptions']\n"
     ]
    }
   ],
   "source": [
    "# getting the table names\n",
    "\n",
    "import sqlite3\n",
    "\n",
    "# Connect to the SQLite database\n",
    "conn = sqlite3.connect('data.db')\n",
    "\n",
    "# Replace 'your_table_name' with the name of your table\n",
    "table_name = 'sessions'\n",
    "\n",
    "# Execute the SQL query to get column information\n",
    "query = f\"PRAGMA table_info({table_name});\"\n",
    "cursor = conn.execute(query)\n",
    "\n",
    "# Fetch all the column information as rows\n",
    "columns_info = cursor.fetchall()\n",
    "\n",
    "# Print the column names\n",
    "column_names = [column[1] for column in columns_info]\n",
    "print(\"Columns in the table:\", column_names)\n",
    "\n",
    "# Close the connection\n",
    "conn.close()"
   ]
  },
  {
   "cell_type": "code",
   "execution_count": 9,
   "id": "355bddba-b315-440f-b88c-c1cd1c941059",
   "metadata": {},
   "outputs": [
    {
     "name": "stdout",
     "output_type": "stream",
     "text": [
      "Unnamed: 0: 313\n",
      "index: 314\n",
      "crse_id: 1145\n",
      "crse_offer_nbr: 1\n",
      "strm: 1222\n",
      "session_code: SRT\n",
      "session_descr: Short Add\n",
      "class_section: 001\n",
      "location: MAIN\n",
      "location_descr: On Grounds\n",
      "start_dt: 01/19/2022\n",
      "end_dt: 05/03/2022\n",
      "class_stat: A\n",
      "campus: MAIN\n",
      "campus_descr: Main Campus\n",
      "class_nbr: 15384\n",
      "acad_career: UGRD\n",
      "acad_career_descr: Undergraduate\n",
      "component: LEC\n",
      "subject: APMA\n",
      "subject_descr: Applied Mathematics\n",
      "catalog_nbr: 2130\n",
      "class_type: E\n",
      "schedule_print: Y\n",
      "acad_group: ENGR\n",
      "instruction_mode: P\n",
      "instruction_mode_descr: In Person\n",
      "acad_org: APMA\n",
      "wait_tot: 0\n",
      "wait_cap: 0\n",
      "class_capacity: 45\n",
      "enrollment_total: 46\n",
      "enrollment_available: 0\n",
      "descr: Ordinary Differential Equations\n",
      "rqmnt_designtn: None\n",
      "units: 4\n",
      "combined_section: N\n",
      "enrl_stat: C\n",
      "enrl_stat_descr: Closed\n",
      "topic: None\n",
      "instructors: [{'name': 'Robert Williams', 'email': 'rtw9aa@virginia.edu'}]\n",
      "section_type: Lecture\n",
      "meetings: [{'days': 'Tu', 'start_time': '08.30.00.000000-05:00', 'end_time': '09.20.00.000000-05:00', 'start_dt': '01/19/2022', 'end_dt': '05/03/2022', 'bldg_cd': 'MEC', 'bldg_has_coordinates': True, 'facility_descr': 'Mechanical Engr Bldg 205', 'room': '205', 'facility_id': 'MEC 205', 'instructor': 'Robert Williams'}, {'days': 'MoWeFr', 'start_time': '11.00.00.000000-05:00', 'end_time': '11.50.00.000000-05:00', 'start_dt': '01/19/2022', 'end_dt': '05/03/2022', 'bldg_cd': 'OLS', 'bldg_has_coordinates': True, 'facility_descr': 'Olsson Hall 011', 'room': '011', 'facility_id': 'OLS 011', 'instructor': 'Robert Williams'}]\n",
      "crse_attr: None\n",
      "crse_attr_value: None\n",
      "reserve_caps: []\n",
      "combined_descr: None\n",
      "reserved_combined_info: None\n",
      "descriptions: First order differential equations, second order and higher order linear differential equations, undetermined coefficients, variation of parameters, Laplace transforms, linear systems of first order differential equations and the associated matrix theory, numerical methods. Applications. Prerequisite: APMA 2120 or equivalent.\n"
     ]
    }
   ],
   "source": [
    "# print a single row:\n",
    "\n",
    "\n",
    "import sqlite3\n",
    "\n",
    "# Connect to the SQLite database\n",
    "conn = sqlite3.connect('data.db')\n",
    "\n",
    "# Replace 'your_table_name' with the name of your table\n",
    "table_name = 'sessions'\n",
    "\n",
    "# Replace 'your_column_name' with the name of the column you want to filter by\n",
    "column_name = 'catalog_nbr'\n",
    "\n",
    "# Replace 'value_to_match' with the value you want to match in the specified column\n",
    "value_to_match = '2130'\n",
    "\n",
    "# Execute the SQL query to retrieve a single row based on a condition\n",
    "query = f\"SELECT * FROM {table_name} WHERE {column_name} = ?;\"\n",
    "cursor = conn.execute(query, (value_to_match,))\n",
    "\n",
    "# Fetch the first row that matches the condition\n",
    "row = cursor.fetchone()\n",
    "\n",
    "\n",
    "# Get the column names from the cursor description\n",
    "column_names = [description[0] for description in cursor.description]\n",
    "\n",
    "# Print column headers and corresponding data\n",
    "if row:\n",
    "    for i in range(len(column_names)):\n",
    "        print(f\"{column_names[i]}: {row[i]}\")\n",
    "\n",
    "\n",
    "# Close the connection\n",
    "conn.close()"
   ]
  },
  {
   "cell_type": "code",
   "execution_count": 20,
   "id": "b3360b12-2921-4fb4-9710-edc81f26fbfd",
   "metadata": {},
   "outputs": [
    {
     "name": "stdout",
     "output_type": "stream",
     "text": [
      "(10818, 1976, 46230, 1, 1232, 'SRT', 'Short Add', '001', 'MAIN', 'On Grounds', '01/18/2023', '05/02/2023', 'A', 'MAIN', 'Main Campus', 19786, 'UGRD', 'Undergraduate', 'LEC', 'CS', 'Computer Science', '3130', 'E', 'Y', 'ENGR', 'P', 'In Person', 'CS', 0, 199, 300, 230, 70, 'Computer Systems and Organization 2', None, '4', 'N', 'O', 'Open', None, \"[{'name': 'Charles Reiss', 'email': 'cr4bd@virginia.edu'}]\", 'Lecture', \"[{'days': 'TuTh', 'start_time': '14.00.00.000000-05:00', 'end_time': '15.15.00.000000-05:00', 'start_dt': '01/18/2023', 'end_dt': '05/02/2023', 'bldg_cd': 'CHM', 'bldg_has_coordinates': True, 'facility_descr': 'Chemistry Bldg 402', 'room': '402', 'facility_id': 'CHM 402', 'instructor': 'Charles Reiss'}]\", None, None, '[]', None, None, 'A second course in computer systems, this course will explore a more realistic model of processors and how they and the operating system work together to provide various functionality we depend on as application programmers. Course topics include permission models, system architecture, concurrency, virtual memory, cryptographic primitives, and TCP/IP networking. Prereq CS 2100 and CS 2130 with a grade of C- or better')\n",
      "(10819, 1977, 46230, 1, 1232, 'SRT', 'Short Add', '101', 'MAIN', 'On Grounds', '01/18/2023', '05/02/2023', 'A', 'MAIN', 'Main Campus', 19788, 'UGRD', 'Undergraduate', 'LAB', 'CS', 'Computer Science', '3130', 'N', 'Y', 'ENGR', 'P', 'In Person', 'CS', 0, 199, 90, 86, 4, 'Computer Systems and Organization 2', None, '0', 'N', 'O', 'Open', None, \"[{'name': 'Charles Reiss', 'email': 'cr4bd@virginia.edu'}]\", 'Laboratory', \"[{'days': 'We', 'start_time': '14.00.00.000000-05:00', 'end_time': '15.15.00.000000-05:00', 'start_dt': '01/18/2023', 'end_dt': '05/02/2023', 'bldg_cd': 'OLS', 'bldg_has_coordinates': True, 'facility_descr': 'Olsson Hall 018', 'room': '018', 'facility_id': 'OLS 018', 'instructor': 'Charles Reiss'}]\", None, None, '[]', None, None, 'A second course in computer systems, this course will explore a more realistic model of processors and how they and the operating system work together to provide various functionality we depend on as application programmers. Course topics include permission models, system architecture, concurrency, virtual memory, cryptographic primitives, and TCP/IP networking. Prereq CS 2100 and CS 2130 with a grade of C- or better')\n",
      "(10820, 1978, 46230, 1, 1232, 'SRT', 'Short Add', '102', 'MAIN', 'On Grounds', '01/18/2023', '05/02/2023', 'A', 'MAIN', 'Main Campus', 19789, 'UGRD', 'Undergraduate', 'LAB', 'CS', 'Computer Science', '3130', 'N', 'Y', 'ENGR', 'P', 'In Person', 'CS', 0, 199, 90, 83, 7, 'Computer Systems and Organization 2', None, '0', 'N', 'O', 'Open', None, \"[{'name': 'Charles Reiss', 'email': 'cr4bd@virginia.edu'}]\", 'Laboratory', \"[{'days': 'We', 'start_time': '15.30.00.000000-05:00', 'end_time': '16.45.00.000000-05:00', 'start_dt': '01/18/2023', 'end_dt': '05/02/2023', 'bldg_cd': 'OLS', 'bldg_has_coordinates': True, 'facility_descr': 'Olsson Hall 018', 'room': '018', 'facility_id': 'OLS 018', 'instructor': 'Charles Reiss'}]\", None, None, '[]', None, None, 'A second course in computer systems, this course will explore a more realistic model of processors and how they and the operating system work together to provide various functionality we depend on as application programmers. Course topics include permission models, system architecture, concurrency, virtual memory, cryptographic primitives, and TCP/IP networking. Prereq CS 2100 and CS 2130 with a grade of C- or better')\n",
      "(10821, 1979, 46230, 1, 1232, 'SRT', 'Short Add', '103', 'MAIN', 'On Grounds', '01/18/2023', '05/02/2023', 'A', 'MAIN', 'Main Campus', 19790, 'UGRD', 'Undergraduate', 'LAB', 'CS', 'Computer Science', '3130', 'N', 'Y', 'ENGR', 'P', 'In Person', 'CS', 0, 199, 90, 51, 39, 'Computer Systems and Organization 2', None, '0', 'N', 'O', 'Open', None, \"[{'name': 'Charles Reiss', 'email': 'cr4bd@virginia.edu'}]\", 'Laboratory', \"[{'days': 'We', 'start_time': '17.00.00.000000-05:00', 'end_time': '18.15.00.000000-05:00', 'start_dt': '01/18/2023', 'end_dt': '05/02/2023', 'bldg_cd': 'OLS', 'bldg_has_coordinates': True, 'facility_descr': 'Olsson Hall 018', 'room': '018', 'facility_id': 'OLS 018', 'instructor': 'Charles Reiss'}]\", None, None, '[]', None, None, 'A second course in computer systems, this course will explore a more realistic model of processors and how they and the operating system work together to provide various functionality we depend on as application programmers. Course topics include permission models, system architecture, concurrency, virtual memory, cryptographic primitives, and TCP/IP networking. Prereq CS 2100 and CS 2130 with a grade of C- or better')\n",
      "(10822, 1980, 46230, 1, 1232, 'SRT', 'Short Add', '104', 'MAIN', 'On Grounds', '01/18/2023', '05/02/2023', 'A', 'MAIN', 'Main Campus', 19791, 'UGRD', 'Undergraduate', 'LAB', 'CS', 'Computer Science', '3130', 'N', 'Y', 'ENGR', 'P', 'In Person', 'CS', 0, 199, 90, 10, 80, 'Computer Systems and Organization 2', None, '0', 'N', 'O', 'Open', None, \"[{'name': 'Charles Reiss', 'email': 'cr4bd@virginia.edu'}]\", 'Laboratory', \"[{'days': 'We', 'start_time': '18.30.00.000000-05:00', 'end_time': '19.45.00.000000-05:00', 'start_dt': '01/18/2023', 'end_dt': '05/02/2023', 'bldg_cd': 'OLS', 'bldg_has_coordinates': True, 'facility_descr': 'Olsson Hall 018', 'room': '018', 'facility_id': 'OLS 018', 'instructor': 'Charles Reiss'}]\", None, None, '[]', None, None, 'A second course in computer systems, this course will explore a more realistic model of processors and how they and the operating system work together to provide various functionality we depend on as application programmers. Course topics include permission models, system architecture, concurrency, virtual memory, cryptographic primitives, and TCP/IP networking. Prereq CS 2100 and CS 2130 with a grade of C- or better')\n",
      "(37646, 2055, 46230, 1, 1238, 'SRT', 'Short Add', '001', 'MAIN', 'On Grounds', '08/22/2023', '12/05/2023', 'A', 'MAIN', 'Main Campus', 19273, 'UGRD', 'Undergraduate', 'LEC', 'CS', 'Computer Science', '3130', 'E', 'Y', 'ENGR', 'P', 'In Person', 'CS', 30, 199, 300, 300, 0, 'Computer Systems and Organization 2', None, '4', 'N', 'W', 'Wait List', None, \"[{'name': 'Charles Reiss', 'email': 'cr4bd@virginia.edu'}]\", 'Lecture', \"[{'days': 'TuTh', 'start_time': '14.00.00.000000-05:00', 'end_time': '15.15.00.000000-05:00', 'start_dt': '08/22/2023', 'end_dt': '12/05/2023', 'bldg_cd': 'MCL', 'bldg_has_coordinates': True, 'facility_descr': 'McLeod Hall 1020', 'room': '1020', 'facility_id': 'MCL 1020', 'instructor': 'Charles Reiss'}]\", None, None, '[]', None, None, 'A second course in computer systems, this course will explore a more realistic model of processors and how they and the operating system work together to provide various functionality we depend on as application programmers. Course topics include permission models, system architecture, concurrency, virtual memory, cryptographic primitives, and TCP/IP networking. Prereq CS 2100 and CS 2130 with a grade of C- or better')\n",
      "(37647, 2056, 46230, 1, 1238, 'SRT', 'Short Add', '101', 'MAIN', 'On Grounds', '08/22/2023', '12/05/2023', 'A', 'MAIN', 'Main Campus', 19274, 'UGRD', 'Undergraduate', 'LAB', 'CS', 'Computer Science', '3130', 'N', 'Y', 'ENGR', 'P', 'In Person', 'CS', 6, 199, 90, 83, 7, 'Computer Systems and Organization 2', None, '0', 'N', 'O', 'Open', None, \"[{'name': 'Charles Reiss', 'email': 'cr4bd@virginia.edu'}]\", 'Laboratory', \"[{'days': 'We', 'start_time': '15.30.00.000000-05:00', 'end_time': '16.45.00.000000-05:00', 'start_dt': '08/22/2023', 'end_dt': '12/05/2023', 'bldg_cd': 'OLS', 'bldg_has_coordinates': True, 'facility_descr': 'Olsson Hall 018', 'room': '018', 'facility_id': 'OLS 018', 'instructor': 'Charles Reiss'}]\", None, None, '[]', None, None, 'A second course in computer systems, this course will explore a more realistic model of processors and how they and the operating system work together to provide various functionality we depend on as application programmers. Course topics include permission models, system architecture, concurrency, virtual memory, cryptographic primitives, and TCP/IP networking. Prereq CS 2100 and CS 2130 with a grade of C- or better')\n",
      "(37648, 2057, 46230, 1, 1238, 'SRT', 'Short Add', '102', 'MAIN', 'On Grounds', '08/22/2023', '12/05/2023', 'A', 'MAIN', 'Main Campus', 19275, 'UGRD', 'Undergraduate', 'LAB', 'CS', 'Computer Science', '3130', 'N', 'Y', 'ENGR', 'P', 'In Person', 'CS', 12, 199, 150, 98, 52, 'Computer Systems and Organization 2', None, '0', 'N', 'O', 'Open', None, \"[{'name': 'Charles Reiss', 'email': 'cr4bd@virginia.edu'}]\", 'Laboratory', \"[{'days': 'We', 'start_time': '15.30.00.000000-05:00', 'end_time': '16.45.00.000000-05:00', 'start_dt': '08/22/2023', 'end_dt': '12/05/2023', 'bldg_cd': 'RICE', 'bldg_has_coordinates': True, 'facility_descr': 'Rice Hall 130', 'room': '130', 'facility_id': 'RICE 130', 'instructor': 'Charles Reiss'}]\", None, None, '[]', None, None, 'A second course in computer systems, this course will explore a more realistic model of processors and how they and the operating system work together to provide various functionality we depend on as application programmers. Course topics include permission models, system architecture, concurrency, virtual memory, cryptographic primitives, and TCP/IP networking. Prereq CS 2100 and CS 2130 with a grade of C- or better')\n",
      "(37649, 2058, 46230, 1, 1238, 'SRT', 'Short Add', '103', 'MAIN', 'On Grounds', '08/22/2023', '12/05/2023', 'A', 'MAIN', 'Main Campus', 19276, 'UGRD', 'Undergraduate', 'LAB', 'CS', 'Computer Science', '3130', 'N', 'Y', 'ENGR', 'P', 'In Person', 'CS', 6, 199, 90, 60, 30, 'Computer Systems and Organization 2', None, '0', 'N', 'O', 'Open', None, \"[{'name': 'Charles Reiss', 'email': 'cr4bd@virginia.edu'}]\", 'Laboratory', \"[{'days': 'We', 'start_time': '17.00.00.000000-05:00', 'end_time': '18.15.00.000000-05:00', 'start_dt': '08/22/2023', 'end_dt': '12/05/2023', 'bldg_cd': 'OLS', 'bldg_has_coordinates': True, 'facility_descr': 'Olsson Hall 018', 'room': '018', 'facility_id': 'OLS 018', 'instructor': 'Charles Reiss'}]\", None, None, '[]', None, None, 'A second course in computer systems, this course will explore a more realistic model of processors and how they and the operating system work together to provide various functionality we depend on as application programmers. Course topics include permission models, system architecture, concurrency, virtual memory, cryptographic primitives, and TCP/IP networking. Prereq CS 2100 and CS 2130 with a grade of C- or better')\n",
      "(37650, 2059, 46230, 1, 1238, 'SRT', 'Short Add', '104', 'MAIN', 'On Grounds', '08/22/2023', '12/05/2023', 'A', 'MAIN', 'Main Campus', 19277, 'UGRD', 'Undergraduate', 'LAB', 'CS', 'Computer Science', '3130', 'N', 'Y', 'ENGR', 'P', 'In Person', 'CS', 3, 199, 150, 43, 107, 'Computer Systems and Organization 2', None, '0', 'N', 'O', 'Open', None, \"[{'name': 'Charles Reiss', 'email': 'cr4bd@virginia.edu'}]\", 'Laboratory', \"[{'days': 'We', 'start_time': '17.00.00.000000-05:00', 'end_time': '18.15.00.000000-05:00', 'start_dt': '08/22/2023', 'end_dt': '12/05/2023', 'bldg_cd': 'RICE', 'bldg_has_coordinates': True, 'facility_descr': 'Rice Hall 130', 'room': '130', 'facility_id': 'RICE 130', 'instructor': 'Charles Reiss'}]\", None, None, '[]', None, None, 'A second course in computer systems, this course will explore a more realistic model of processors and how they and the operating system work together to provide various functionality we depend on as application programmers. Course topics include permission models, system architecture, concurrency, virtual memory, cryptographic primitives, and TCP/IP networking. Prereq CS 2100 and CS 2130 with a grade of C- or better')\n",
      "(37651, 2060, 46230, 1, 1238, 'SRT', 'Short Add', '105', 'MAIN', 'On Grounds', '08/22/2023', '12/05/2023', 'A', 'MAIN', 'Main Campus', 19278, 'UGRD', 'Undergraduate', 'LAB', 'CS', 'Computer Science', '3130', 'N', 'Y', 'ENGR', 'P', 'In Person', 'CS', 3, 199, 90, 16, 74, 'Computer Systems and Organization 2', None, '0', 'N', 'O', 'Open', None, \"[{'name': 'Charles Reiss', 'email': 'cr4bd@virginia.edu'}]\", 'Laboratory', \"[{'days': 'We', 'start_time': '18.30.00.000000-05:00', 'end_time': '19.45.00.000000-05:00', 'start_dt': '08/22/2023', 'end_dt': '12/05/2023', 'bldg_cd': 'OLS', 'bldg_has_coordinates': True, 'facility_descr': 'Olsson Hall 018', 'room': '018', 'facility_id': 'OLS 018', 'instructor': 'Charles Reiss'}]\", None, None, '[]', None, None, 'A second course in computer systems, this course will explore a more realistic model of processors and how they and the operating system work together to provide various functionality we depend on as application programmers. Course topics include permission models, system architecture, concurrency, virtual memory, cryptographic primitives, and TCP/IP networking. Prereq CS 2100 and CS 2130 with a grade of C- or better')\n"
     ]
    }
   ],
   "source": [
    "query = \"SELECT * FROM sessions WHERE subject_descr='Computer Science' and catalog_nbr='3130'\"\n",
    "conn = sqlite3.connect('data.db')\n",
    "\n",
    "cursor = conn.execute(query)\n",
    "unique_catalog_numbers = cursor.fetchall()\n",
    "\n",
    "for row in unique_catalog_numbers:\n",
    "    print(row)"
   ]
  },
  {
   "cell_type": "code",
   "execution_count": 38,
   "id": "b857d2b9-9358-4ca0-886c-2314546d3ed5",
   "metadata": {},
   "outputs": [],
   "source": [
    "import sqlite3\n",
    "\n",
    "\n",
    "def get_unique_acad_orgs(strm):\n",
    "    # query = f\"SELECT DISTINCT acad_org FROM sessions WHERE strm={strm}\"\n",
    "    query = f\"SELECT DISTINCT acad_org FROM sessions WHERE strm={strm}\"\n",
    "    conn = sqlite3.connect('data.db')\n",
    "    cursor = conn.execute(query)\n",
    "    unique_subject_descr = cursor.fetchall()\n",
    "    conn.close()\n",
    "    for row in sorted(unique_subject_descr):\n",
    "        print(row[0])\n",
    "\n",
    "def get_unique_subjects_in_org(strm, acad_org):\n",
    "    query\n",
    "        \n",
    "\n",
    "def catalog_numbers_for_department(department, strm):\n",
    "    # code to get unique catalog numbers\n",
    "    department = \"'Computer Science'\"\n",
    "    conn = sqlite3.connect('data.db')\n",
    "    \n",
    "    query = f\"\"\"\n",
    "    SELECT DISTINCT catalog_nbr\n",
    "    FROM sessions\n",
    "    WHERE strm={strm} AND subject_descr={department}\"\"\"\n",
    "    \n",
    "    cursor = conn.execute(query)\n",
    "    unique_catalog_numbers = cursor.fetchall()\n",
    "    \n",
    "    conn.close()\n",
    "    \n",
    "    for row in unique_catalog_numbers:\n",
    "        print(row[0])\n",
    "\n",
    "def get_sessions_for_class(department, catalog_nbr, strm):\n",
    "    query = f\"\"\"SELECT meetings, section_type, instructors, topic, enrollment_total, class_capacity, wait_tot, wait_cap, subject, catalog_nbr, class_section\n",
    "    FROM sessions \n",
    "    WHERE department={department} AND strm={strm} AND catalog_nbr={catalog_nbr} ORDER_BY component\"\"\"\n",
    "    conn = sqlite3.connect('data.db')\n",
    "    cursoer = conn.execute(query)\n",
    "    results = cursor.fetchall()\n",
    "\n",
    "    conn.close()\n",
    "    for row in results:\n",
    "        print(row[-2])\n",
    "    "
   ]
  },
  {
   "cell_type": "code",
   "execution_count": null,
   "id": "6fc68240-80f9-4b4b-be5c-1fd275848619",
   "metadata": {},
   "outputs": [],
   "source": []
  },
  {
   "cell_type": "code",
   "execution_count": 39,
   "id": "e29a1e36-bcb3-4258-a4e2-c50f5ba7bbd8",
   "metadata": {},
   "outputs": [
    {
     "name": "stdout",
     "output_type": "stream",
     "text": [
      "AAS\n",
      "AIRS\n",
      "ALAR\n",
      "AM\n",
      "AMST\n",
      "ANTH\n",
      "APMA\n",
      "ARCHD\n",
      "ARCHDP\n",
      "ARH\n",
      "ART\n",
      "ASL\n",
      "ASTR\n",
      "BIMS\n",
      "BIOC\n",
      "BIOL\n",
      "BIOM\n",
      "BIOP\n",
      "CEE\n",
      "CELL\n",
      "CGAS\n",
      "CGASD\n",
      "CHE\n",
      "CHEM\n",
      "CLAS\n",
      "COGS\n",
      "COMMD\n",
      "CS\n",
      "DATAD\n",
      "DRAM\n",
      "EALC\n",
      "ECE\n",
      "ECON\n",
      "EDHS\n",
      "EDIS\n",
      "EDKI\n",
      "EDLF\n",
      "EDUCD\n",
      "ENGL\n",
      "ENGRD\n",
      "ESL\n",
      "ETP\n",
      "EVSC\n",
      "FREN\n",
      "GBUSD\n",
      "GERM\n",
      "HIST\n",
      "IDST\n",
      "IMP\n",
      "LAR\n",
      "LAWD\n",
      "MAE\n",
      "MATH\n",
      "MCDG\n",
      "MDST\n",
      "MEDD\n",
      "MESA\n",
      "MICR\n",
      "MISC\n",
      "MSE\n",
      "MUSI\n",
      "NASC\n",
      "NESC\n",
      "NURSD\n",
      "PATH\n",
      "PHAR\n",
      "PHIL\n",
      "PHS\n",
      "PHY\n",
      "PHYS\n",
      "PLAN\n",
      "POLT\n",
      "PPOL\n",
      "PROVD\n",
      "PST\n",
      "PSYC\n",
      "RELG\n",
      "SCPSD\n",
      "SIE\n",
      "SLLT\n",
      "SOC\n",
      "SPAN\n",
      "STAT\n",
      "STS\n",
      "SWAG\n"
     ]
    }
   ],
   "source": [
    "get_unique_departments(\"Computer Science\", \"\")"
   ]
  },
  {
   "cell_type": "code",
   "execution_count": null,
   "id": "f4d0a43e-654f-4370-b926-98e33f2e3981",
   "metadata": {},
   "outputs": [],
   "source": []
  },
  {
   "cell_type": "code",
   "execution_count": null,
   "id": "3745279b-62d8-46d3-8a2f-c1e0aabed075",
   "metadata": {},
   "outputs": [],
   "source": []
  }
 ],
 "metadata": {
  "kernelspec": {
   "display_name": "Python 3 (ipykernel)",
   "language": "python",
   "name": "python3"
  },
  "language_info": {
   "codemirror_mode": {
    "name": "ipython",
    "version": 3
   },
   "file_extension": ".py",
   "mimetype": "text/x-python",
   "name": "python",
   "nbconvert_exporter": "python",
   "pygments_lexer": "ipython3",
   "version": "3.11.4"
  }
 },
 "nbformat": 4,
 "nbformat_minor": 5
}
